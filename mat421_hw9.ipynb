{
  "nbformat": 4,
  "nbformat_minor": 0,
  "metadata": {
    "colab": {
      "provenance": [],
      "authorship_tag": "ABX9TyMVSsigzBAOAhXFgHPCDhqd",
      "include_colab_link": true
    },
    "kernelspec": {
      "name": "python3",
      "display_name": "Python 3"
    },
    "language_info": {
      "name": "python"
    }
  },
  "cells": [
    {
      "cell_type": "markdown",
      "metadata": {
        "id": "view-in-github",
        "colab_type": "text"
      },
      "source": [
        "<a href=\"https://colab.research.google.com/github/MichaelKupfer/MAT421/blob/main/mat421_hw9.ipynb\" target=\"_parent\"><img src=\"https://colab.research.google.com/assets/colab-badge.svg\" alt=\"Open In Colab\"/></a>"
      ]
    },
    {
      "cell_type": "markdown",
      "source": [
        "Chapter 21 - Numerical Integration"
      ],
      "metadata": {
        "id": "VFiCTKEGv2ot"
      }
    },
    {
      "cell_type": "markdown",
      "source": [
        "Numerical integration is often described as finding the area under a curve and has many practical applications. Sometimes it is difficult or even impossible to find an exact solution so numerical integration is helpful"
      ],
      "metadata": {
        "id": "3SyTbNTuwHKr"
      }
    },
    {
      "cell_type": "markdown",
      "source": [
        "21.1 Numerical Integration Problem Statement"
      ],
      "metadata": {
        "id": "-iRaj3HUwqkf"
      }
    },
    {
      "cell_type": "markdown",
      "source": [
        "Given a function f(x) we want to approximate the integral of f(x) over a given interval [a,b]. In order to do this we separate the interval into equal subintervals. Then, depending on the method, the area under f(x) is calculated using shapes with simple areas over the subintervals. These areas are then summed to create an estimation of the total area under f(x)."
      ],
      "metadata": {
        "id": "NN2UDuqFw1Bw"
      }
    },
    {
      "cell_type": "markdown",
      "source": [
        "21.2 Riemanns Integral"
      ],
      "metadata": {
        "id": "4QBaEvhixqvr"
      }
    },
    {
      "cell_type": "markdown",
      "source": [
        "The simplest method is to sum the area of the rectangles that are defined in each subinterval. The width of the rectangle is the size of the subinterval while the height is defined by f(x) for some x in the subinterval. The obvious choices are the left and right endpoints because they can be used without knowing the function. The midpoint rule takes the height to be f(x) at the midpoint of each subinterval. While the midpoint rule is more accurate it can only be used if the function is known. "
      ],
      "metadata": {
        "id": "HkmBYDaTxvwz"
      }
    },
    {
      "cell_type": "markdown",
      "source": [
        "Practice: Use three different Riemanns integrals to find the integral of sin(x) from 0 to pi. Compare with the exact solution of 2. "
      ],
      "metadata": {
        "id": "ot--_80czDAo"
      }
    },
    {
      "cell_type": "code",
      "execution_count": 6,
      "metadata": {
        "id": "5VEuDU0Gvz41"
      },
      "outputs": [],
      "source": [
        "import numpy as np\n",
        "\n",
        "#endpoints\n",
        "a = 0\n",
        "b = np.pi\n",
        "\n",
        "#subintervals\n",
        "n = 11\n",
        "h = (b - a) / (n - 1)\n",
        "x = np.linspace(a, b, n)\n",
        "#function\n",
        "f = np.sin(x)"
      ]
    },
    {
      "cell_type": "code",
      "source": [
        "#left riemann\n",
        "I_riemannL = h * sum(f[:n-1])\n",
        "err_riemannL = 2 - I_riemannL\n",
        "\n",
        "#right riemann\n",
        "I_riemannR = h * sum(f[1::])\n",
        "err_riemannR = 2 - I_riemannR\n",
        "\n",
        "#midpoint rule\n",
        "I_mid = h * sum(np.sin((x[:n-1] \\\n",
        "        + x[1:])/2))\n",
        "err_mid = 2 - I_mid\n"
      ],
      "metadata": {
        "id": "UrIxyIqRzaEO"
      },
      "execution_count": 7,
      "outputs": []
    },
    {
      "cell_type": "code",
      "source": [
        "#results and error\n",
        "print(I_riemannL)\n",
        "print(err_riemannL)\n",
        "\n",
        "print(I_riemannR)\n",
        "print(err_riemannR)\n",
        "\n",
        "print(I_mid)\n",
        "print(err_mid)"
      ],
      "metadata": {
        "colab": {
          "base_uri": "https://localhost:8080/"
        },
        "id": "wlo32N64z5YQ",
        "outputId": "03283a88-0498-4cb0-dffc-bd322fb16680"
      },
      "execution_count": 8,
      "outputs": [
        {
          "output_type": "stream",
          "name": "stdout",
          "text": [
            "1.9835235375094546\n",
            "0.01647646249054535\n",
            "1.9835235375094546\n",
            "0.01647646249054535\n",
            "2.0082484079079745\n",
            "-0.008248407907974542\n"
          ]
        }
      ]
    },
    {
      "cell_type": "markdown",
      "source": [
        "21.3 Trapezoid Rule"
      ],
      "metadata": {
        "id": "d4sYfSmt0xgH"
      }
    },
    {
      "cell_type": "markdown",
      "source": [
        "The trapezoid rule fits a trapezoid into each subinterval and sums their areas. The trapezoid rule uses the subintervals as well as the function values at the ends of each subinterval to create the trapezoids. "
      ],
      "metadata": {
        "id": "ACMemy_q02qi"
      }
    },
    {
      "cell_type": "markdown",
      "source": [
        "Practice: Use the trapezoid rule the find the integral of sin(x) from 0 to pi and compare this with the exact solution of 2. "
      ],
      "metadata": {
        "id": "izDXLaLq1dzj"
      }
    },
    {
      "cell_type": "code",
      "source": [
        "#trapezoid rule\n",
        "I_trap = (h/2)*(f[0] + \\\n",
        "          2 * sum(f[1:n-1]) + f[n-1])\n",
        "err_trap = 2 - I_trap"
      ],
      "metadata": {
        "id": "nhmuuxIM1llj"
      },
      "execution_count": 9,
      "outputs": []
    },
    {
      "cell_type": "code",
      "source": [
        "#results and error\n",
        "print(I_trap)\n",
        "print(err_trap)"
      ],
      "metadata": {
        "colab": {
          "base_uri": "https://localhost:8080/"
        },
        "id": "HVUIGl731sn-",
        "outputId": "88b89d02-3a28-4e13-8938-752f62504127"
      },
      "execution_count": 10,
      "outputs": [
        {
          "output_type": "stream",
          "name": "stdout",
          "text": [
            "1.9835235375094546\n",
            "0.01647646249054535\n"
          ]
        }
      ]
    }
  ]
}
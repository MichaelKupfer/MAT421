{
  "nbformat": 4,
  "nbformat_minor": 0,
  "metadata": {
    "colab": {
      "provenance": [],
      "authorship_tag": "ABX9TyNtsYuei5f/UX/nOaa4TW5Y",
      "include_colab_link": true
    },
    "kernelspec": {
      "name": "python3",
      "display_name": "Python 3"
    },
    "language_info": {
      "name": "python"
    }
  },
  "cells": [
    {
      "cell_type": "markdown",
      "metadata": {
        "id": "view-in-github",
        "colab_type": "text"
      },
      "source": [
        "<a href=\"https://colab.research.google.com/github/MichaelKupfer/MAT421/blob/main/mat421_hw6.ipynb\" target=\"_parent\"><img src=\"https://colab.research.google.com/assets/colab-badge.svg\" alt=\"Open In Colab\"/></a>"
      ]
    },
    {
      "cell_type": "markdown",
      "source": [
        "Chapter 3 - Calculus and Optimization"
      ],
      "metadata": {
        "id": "DIOlNKGcgpYz"
      }
    },
    {
      "cell_type": "markdown",
      "source": [
        "3.2 Continuity and Differentiation"
      ],
      "metadata": {
        "id": "cmpWMs5LgT4o"
      }
    },
    {
      "cell_type": "markdown",
      "source": [
        "Many machine learning algorithms are based around optimizing parameters which rely on derivatives. In turn, derivatives are the result of continuity and limits. "
      ],
      "metadata": {
        "id": "ff18DO9LglaR"
      }
    },
    {
      "cell_type": "markdown",
      "source": [
        "Practice: Find limits of functions using Python"
      ],
      "metadata": {
        "id": "UzB984ZZiJGZ"
      }
    },
    {
      "cell_type": "code",
      "execution_count": 2,
      "metadata": {
        "colab": {
          "base_uri": "https://localhost:8080/"
        },
        "id": "QIPOgKi3Vfu1",
        "outputId": "0650d9ec-9f42-4d21-d556-8eaba6dffdde"
      },
      "outputs": [
        {
          "output_type": "stream",
          "name": "stdout",
          "text": [
            "Expression : sin(x)/x\n",
            "Limit : 1\n"
          ]
        }
      ],
      "source": [
        "# import sympy\n",
        "from sympy import *\n",
        " \n",
        "x = symbols('x')\n",
        "expr = sin(x)/x;\n",
        "   \n",
        "print(\"Expression : {}\".format(expr))\n",
        "     \n",
        "# Use sympy.limit() method\n",
        "limit_expr = limit(expr, x, 0) \n",
        "\n",
        "print(\"Limit as x approaches 0 : {}\".format(limit_expr))"
      ]
    },
    {
      "cell_type": "code",
      "source": [
        "from sympy import *\n",
        " \n",
        "x = symbols('x')\n",
        "expr = exp(x);\n",
        "   \n",
        "print(\"Expression : {}\".format(expr))\n",
        "     \n",
        "# Use sympy.limit() method\n",
        "limit_expr = limit(expr, x, 0) \n",
        "\n",
        "print(\"Limit as x approaches 0: {}\".format(limit_expr))"
      ],
      "metadata": {
        "colab": {
          "base_uri": "https://localhost:8080/"
        },
        "id": "5nWVGwhli1cz",
        "outputId": "e90d7c3d-70ea-4256-8d6e-287d1dfeab77"
      },
      "execution_count": 7,
      "outputs": [
        {
          "output_type": "stream",
          "name": "stdout",
          "text": [
            "Expression : exp(x)\n",
            "Limit as x approaches 0: 1\n"
          ]
        }
      ]
    },
    {
      "cell_type": "markdown",
      "source": [
        "We can also find derivatives of different functions in Python"
      ],
      "metadata": {
        "id": "wrYxDX6YjYGV"
      }
    },
    {
      "cell_type": "markdown",
      "source": [
        "Practice: Find derivaties in Python"
      ],
      "metadata": {
        "id": "ugRHuJj5jfTs"
      }
    },
    {
      "cell_type": "code",
      "source": [
        "# create a \"symbol\" called x\n",
        "x = Symbol('x')\n",
        "\n",
        "#Define function\n",
        "f = x**2\n",
        "\n",
        "#Calculating Derivative\n",
        "derivative_f = f.diff(x)\n",
        "\n",
        "derivative_f"
      ],
      "metadata": {
        "colab": {
          "base_uri": "https://localhost:8080/",
          "height": 39
        },
        "id": "bmSqd8LljeuQ",
        "outputId": "1d83aeb0-7264-4913-c5bb-28a9641bf9c3"
      },
      "execution_count": 8,
      "outputs": [
        {
          "output_type": "execute_result",
          "data": {
            "text/plain": [
              "2*x"
            ],
            "text/latex": "$\\displaystyle 2 x$"
          },
          "metadata": {},
          "execution_count": 8
        }
      ]
    },
    {
      "cell_type": "markdown",
      "source": [
        "Product Rule"
      ],
      "metadata": {
        "id": "ZrIO2zinjyOc"
      }
    },
    {
      "cell_type": "code",
      "source": [
        "# create a \"symbol\" called x\n",
        "x = Symbol('x')\n",
        "\n",
        "#Define function\n",
        "f = x**2 * cos(x)\n",
        "\n",
        "#Calculating Derivative\n",
        "derivative_f = f.diff(x)\n",
        "\n",
        "derivative_f"
      ],
      "metadata": {
        "colab": {
          "base_uri": "https://localhost:8080/",
          "height": 39
        },
        "id": "dL25L6fEjnXH",
        "outputId": "23b13ac5-4574-4213-da75-e16ffd9ef58d"
      },
      "execution_count": 9,
      "outputs": [
        {
          "output_type": "execute_result",
          "data": {
            "text/plain": [
              "-x**2*sin(x) + 2*x*cos(x)"
            ],
            "text/latex": "$\\displaystyle - x^{2} \\sin{\\left(x \\right)} + 2 x \\cos{\\left(x \\right)}$"
          },
          "metadata": {},
          "execution_count": 9
        }
      ]
    },
    {
      "cell_type": "markdown",
      "source": [
        "Chain Rule"
      ],
      "metadata": {
        "id": "FfqB5dzUj9lK"
      }
    },
    {
      "cell_type": "code",
      "source": [
        "# create a \"symbol\" called x\n",
        "x = Symbol('x')\n",
        "\n",
        "#Define function\n",
        "f = (cos(x))**2\n",
        "\n",
        "#Calculating Derivative\n",
        "derivative_f = f.diff(x)\n",
        "\n",
        "derivative_f"
      ],
      "metadata": {
        "colab": {
          "base_uri": "https://localhost:8080/",
          "height": 39
        },
        "id": "Mmdf1I1mkAde",
        "outputId": "bbae84d9-ea5e-4b70-c4d3-1416a12a23c5"
      },
      "execution_count": 12,
      "outputs": [
        {
          "output_type": "execute_result",
          "data": {
            "text/plain": [
              "-2*sin(x)*cos(x)"
            ],
            "text/latex": "$\\displaystyle - 2 \\sin{\\left(x \\right)} \\cos{\\left(x \\right)}$"
          },
          "metadata": {},
          "execution_count": 12
        }
      ]
    },
    {
      "cell_type": "markdown",
      "source": [
        "Partial and Multivariable Derivatives"
      ],
      "metadata": {
        "id": "bNqZKxwWkW5-"
      }
    },
    {
      "cell_type": "code",
      "source": [
        "# create a \"symbol\" called x\n",
        "x,y = symbols('x,y')\n",
        "\n",
        "#Define function\n",
        "f = x**2 + x*y**3\n",
        "\n",
        "#Calculating Derivative\n",
        "derivative_fx = f.diff(x)\n",
        "derivative_fy = f.diff(y)\n",
        "derivative_fxy = f.diff(x,y)\n",
        "\n",
        "derivative_fx\n",
        "print(\"Derivative with respect to x :\", derivative_fx)\n",
        "print(\"Derivative with respect to y :\", derivative_fy)\n",
        "print(\"Derivative with respect to x and y :\",derivative_fxy)"
      ],
      "metadata": {
        "colab": {
          "base_uri": "https://localhost:8080/"
        },
        "id": "YM5KvjZSkfA1",
        "outputId": "093bb774-85f1-4a0b-a244-2820052c291b"
      },
      "execution_count": 32,
      "outputs": [
        {
          "output_type": "stream",
          "name": "stdout",
          "text": [
            "Derivative with respect to x : 2*x + y**3\n",
            "Derivative with respect to y : 3*x*y**2\n",
            "Derivative with respect to x and y : 3*y**2\n"
          ]
        }
      ]
    },
    {
      "cell_type": "markdown",
      "source": [
        "One important theorem is the Mean Value Theorem which states that for a function f[a,b] -> R that is continuous and its derivative exists on (a,b), then there is a < c < b such that f(b) - f(a)/(b-a) = f'(c). "
      ],
      "metadata": {
        "id": "blu9bCBUmski"
      }
    },
    {
      "cell_type": "markdown",
      "source": [
        "3.3 Unconstrained Optimization"
      ],
      "metadata": {
        "id": "rZgCI-asngLs"
      }
    },
    {
      "cell_type": "markdown",
      "source": [
        "Optimization involves finding the minimum or maximum of a function, but we will start by finding the minimum. "
      ],
      "metadata": {
        "id": "WPppIqlVns08"
      }
    },
    {
      "cell_type": "markdown",
      "source": [
        "Practice: Find the minimum of a function using Python"
      ],
      "metadata": {
        "id": "NIanEzXHqUj2"
      }
    },
    {
      "cell_type": "code",
      "source": [
        "import matplotlib.pyplot as plt\n",
        "from scipy.optimize import minimize_scalar\n",
        "import numpy as np\n",
        "x = np.linspace(-2,2,1000)\n",
        "def min_f(x):\n",
        "    return x**4 - x**2\n",
        "\n",
        "y=min_f(x)\n",
        "res = minimize_scalar(min_f)\n",
        "xmin = res.x\n",
        "ymin = res.fun\n",
        "\n",
        "plt.figure(figsize = (10,8))\n",
        "plt.plot(x, y, 'b')\n",
        "plt.plot(xmin, ymin, 'r.')\n",
        "plt.xlabel('x')\n",
        "plt.ylabel('y')\n",
        "plt.show()"
      ],
      "metadata": {
        "colab": {
          "base_uri": "https://localhost:8080/",
          "height": 497
        },
        "id": "L4fysbmsqZOt",
        "outputId": "4383d14b-691e-4ccd-af89-c71ac5d1e27a"
      },
      "execution_count": 55,
      "outputs": [
        {
          "output_type": "display_data",
          "data": {
            "text/plain": [
              "<Figure size 720x576 with 1 Axes>"
            ],
            "image/png": "[encoded data removed]"
          },
          "metadata": {
            "needs_background": "light"
          }
        }
      ]
    },
    {
      "cell_type": "markdown",
      "source": [
        "While this does find one local minimizer as seen in the graph there can be multiple minimums. The minimize scalar function allows you to set bounds to find the wanted minimum."
      ],
      "metadata": {
        "id": "-vdCoHhosYKL"
      }
    },
    {
      "cell_type": "markdown",
      "source": [
        "Practice: Find minimum of function so that x < 0. "
      ],
      "metadata": {
        "id": "fI5mL4rJsmnZ"
      }
    },
    {
      "cell_type": "code",
      "source": [
        "res = minimize_scalar(min_f,method = 'bounded', bounds = (-100,0))\n",
        "xmin = res.x\n",
        "ymin = res.fun\n",
        "\n",
        "plt.figure(figsize = (10,8))\n",
        "plt.plot(x, y, 'b')\n",
        "plt.plot(xmin, ymin, 'r.')\n",
        "plt.xlabel('x')\n",
        "plt.ylabel('y')\n",
        "plt.show()"
      ],
      "metadata": {
        "colab": {
          "base_uri": "https://localhost:8080/",
          "height": 497
        },
        "id": "NcNkGpnYssX1",
        "outputId": "e5717306-e710-4e68-e9f3-102a2b3d3056"
      },
      "execution_count": 56,
      "outputs": [
        {
          "output_type": "display_data",
          "data": {
            "text/plain": [
              "<Figure size 720x576 with 1 Axes>"
            ],
            "image/png": "[encoded data removed]"
          },
          "metadata": {
            "needs_background": "light"
          }
        }
      ]
    }
  ]
}
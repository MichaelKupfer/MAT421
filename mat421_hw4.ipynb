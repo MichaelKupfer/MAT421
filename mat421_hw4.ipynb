{
  "nbformat": 4,
  "nbformat_minor": 0,
  "metadata": {
    "colab": {
      "provenance": [],
      "authorship_tag": "ABX9TyPZXnKncGOoQ4JX5PunsUrJ",
      "include_colab_link": true
    },
    "kernelspec": {
      "name": "python3",
      "display_name": "Python 3"
    },
    "language_info": {
      "name": "python"
    }
  },
  "cells": [
    {
      "cell_type": "markdown",
      "metadata": {
        "id": "view-in-github",
        "colab_type": "text"
      },
      "source": [
        "<a href=\"https://colab.research.google.com/github/MichaelKupfer/MAT421/blob/main/mat421_hw4.ipynb\" target=\"_parent\"><img src=\"https://colab.research.google.com/assets/colab-badge.svg\" alt=\"Open In Colab\"/></a>"
      ]
    },
    {
      "cell_type": "markdown",
      "source": [
        "Chapter 19 - Root Finding"
      ],
      "metadata": {
        "id": "eH7u0_fyVEmm"
      }
    },
    {
      "cell_type": "markdown",
      "source": [
        "19.1 Root Finding Problem Statement"
      ],
      "metadata": {
        "id": "ZBEoKRv3VfhC"
      }
    },
    {
      "cell_type": "markdown",
      "source": [
        "The root of a function f(x), is an xr value such that f(xr) = 0. While simple to solve for basic functions it is helpful to generate approximations for more complex functions\n"
      ],
      "metadata": {
        "id": "nL1Xv-vcXKBe"
      }
    },
    {
      "cell_type": "markdown",
      "source": [
        "Compute the root of cos(x) - x with a starting estimate of -2. Check that this is a root. "
      ],
      "metadata": {
        "id": "exWI7cRsYZSf"
      }
    },
    {
      "cell_type": "code",
      "execution_count": 1,
      "metadata": {
        "colab": {
          "base_uri": "https://localhost:8080/"
        },
        "id": "AUJPPMnjU4ki",
        "outputId": "698eb6b1-25ea-4f4b-eb0b-61d6b76515e9"
      },
      "outputs": [
        {
          "output_type": "stream",
          "name": "stdout",
          "text": [
            "r = [0.73908513]\n",
            "result= [0.]\n"
          ]
        }
      ],
      "source": [
        "import numpy as np\n",
        "from scipy import optimize\n",
        "\n",
        "f = lambda x: np.cos(x) - x\n",
        "r = optimize.fsolve(f, -2)\n",
        "print(\"r =\", r)\n",
        "\n",
        "# Verify the solution is a root\n",
        "result = f(r)\n",
        "print(\"result=\", result)"
      ]
    },
    {
      "cell_type": "markdown",
      "source": [
        "19.2 Tolerance"
      ],
      "metadata": {
        "id": "OxZ9vutjZGeo"
      }
    },
    {
      "cell_type": "markdown",
      "source": [
        "Tolerance is the amount of acceptable error. When finding roots, a metric for error and tolerance needs to be established. The first method is error = |f(x)| while tol is the acceptable tolerance. The second method sets error = |x_i+1 - x_i|. Both of these methods however can find roots for functtions that do not have any. "
      ],
      "metadata": {
        "id": "epAX9j4dZJED"
      }
    },
    {
      "cell_type": "markdown",
      "source": [
        "19.3 Bisection Method"
      ],
      "metadata": {
        "id": "3zlQ0QpMb3G-"
      }
    },
    {
      "cell_type": "markdown",
      "source": [
        "The bisection method employs the intermediate value theorem to find the roots of a function. By guessing a value in the middle of the function, the method moves the endpoints closer and closer together by continually cutting it in half. Eventually the process of reducing the endpoints will result in finding the root which is guaranteed by tthe intermediate value theorem. "
      ],
      "metadata": {
        "id": "7Bc7BPHVc2no"
      }
    },
    {
      "cell_type": "markdown",
      "source": [
        "Use the bisection method to find the root of x^2 - 2 with a tolerance of 0.1 and 0.01"
      ],
      "metadata": {
        "id": "tzkK7X8reZX5"
      }
    },
    {
      "cell_type": "code",
      "source": [
        "import numpy as np\n",
        "\n",
        "def my_bisection(f, a, b, tol): \n",
        "    # approximates a root, R, of f bounded \n",
        "    # by a and b to within tolerance \n",
        "    # | f(m) | < tol with m the midpoint \n",
        "    # between a and b Recursive implementation\n",
        "    \n",
        "    # check if a and b bound a root\n",
        "    if np.sign(f(a)) == np.sign(f(b)):\n",
        "        raise Exception(\n",
        "         \"The scalars a and b do not bound a root\")\n",
        "        \n",
        "    # get midpoint\n",
        "    m = (a + b)/2\n",
        "    \n",
        "    if np.abs(f(m)) < tol:\n",
        "        # stopping condition, report m as root\n",
        "        return m\n",
        "    elif np.sign(f(a)) == np.sign(f(m)):\n",
        "        # case where m is an improvement on a. \n",
        "        # Make recursive call with a = m\n",
        "        return my_bisection(f, m, b, tol)\n",
        "    elif np.sign(f(b)) == np.sign(f(m)):\n",
        "        # case where m is an improvement on b. \n",
        "        # Make recursive call with b = m\n",
        "        return my_bisection(f, a, m, tol)\n",
        "\n",
        "f = lambda x: x**2 - 2\n",
        "\n",
        "r1 = my_bisection(f, 0, 2, 0.1)\n",
        "print(\"r1 =\", r1)\n",
        "r01 = my_bisection(f, 0, 2, 0.01)\n",
        "print(\"r01 =\", r01)\n",
        "\n",
        "print(\"f(r1) =\", f(r1))\n",
        "print(\"f(r01) =\", f(r01))"
      ],
      "metadata": {
        "colab": {
          "base_uri": "https://localhost:8080/"
        },
        "id": "JKRIjFaUduD4",
        "outputId": "9ce04f35-036d-4fb4-fd54-a2213f66ad48"
      },
      "execution_count": 2,
      "outputs": [
        {
          "output_type": "stream",
          "name": "stdout",
          "text": [
            "r1 = 1.4375\n",
            "r01 = 1.4140625\n",
            "f(r1) = 0.06640625\n",
            "f(r01) = -0.00042724609375\n"
          ]
        }
      ]
    },
    {
      "cell_type": "markdown",
      "source": [
        "Show what happens if the endpoints do not satisfy the intermediate value theorem i.e. they do not have opposite signs. "
      ],
      "metadata": {
        "id": "heNutrzUe6Sy"
      }
    },
    {
      "cell_type": "code",
      "source": [
        "my_bisection(f, 2, 4, 0.01)"
      ],
      "metadata": {
        "colab": {
          "base_uri": "https://localhost:8080/",
          "height": 294
        },
        "id": "AxEx6RRTfJPE",
        "outputId": "166b831c-af81-4b82-b542-2752a041dd80"
      },
      "execution_count": 3,
      "outputs": [
        {
          "output_type": "error",
          "ename": "Exception",
          "evalue": "ignored",
          "traceback": [
            "\u001b[0;31m---------------------------------------------------------------------------\u001b[0m",
            "\u001b[0;31mException\u001b[0m                                 Traceback (most recent call last)",
            "\u001b[0;32m<ipython-input-3-4158b7a9ae67>\u001b[0m in \u001b[0;36m<module>\u001b[0;34m\u001b[0m\n\u001b[0;32m----> 1\u001b[0;31m \u001b[0mmy_bisection\u001b[0m\u001b[0;34m(\u001b[0m\u001b[0mf\u001b[0m\u001b[0;34m,\u001b[0m \u001b[0;36m2\u001b[0m\u001b[0;34m,\u001b[0m \u001b[0;36m4\u001b[0m\u001b[0;34m,\u001b[0m \u001b[0;36m0.01\u001b[0m\u001b[0;34m)\u001b[0m\u001b[0;34m\u001b[0m\u001b[0;34m\u001b[0m\u001b[0m\n\u001b[0m",
            "\u001b[0;32m<ipython-input-2-68fff13c9dda>\u001b[0m in \u001b[0;36mmy_bisection\u001b[0;34m(f, a, b, tol)\u001b[0m\n\u001b[1;32m      9\u001b[0m     \u001b[0;31m# check if a and b bound a root\u001b[0m\u001b[0;34m\u001b[0m\u001b[0;34m\u001b[0m\u001b[0;34m\u001b[0m\u001b[0m\n\u001b[1;32m     10\u001b[0m     \u001b[0;32mif\u001b[0m \u001b[0mnp\u001b[0m\u001b[0;34m.\u001b[0m\u001b[0msign\u001b[0m\u001b[0;34m(\u001b[0m\u001b[0mf\u001b[0m\u001b[0;34m(\u001b[0m\u001b[0ma\u001b[0m\u001b[0;34m)\u001b[0m\u001b[0;34m)\u001b[0m \u001b[0;34m==\u001b[0m \u001b[0mnp\u001b[0m\u001b[0;34m.\u001b[0m\u001b[0msign\u001b[0m\u001b[0;34m(\u001b[0m\u001b[0mf\u001b[0m\u001b[0;34m(\u001b[0m\u001b[0mb\u001b[0m\u001b[0;34m)\u001b[0m\u001b[0;34m)\u001b[0m\u001b[0;34m:\u001b[0m\u001b[0;34m\u001b[0m\u001b[0;34m\u001b[0m\u001b[0m\n\u001b[0;32m---> 11\u001b[0;31m         raise Exception(\n\u001b[0m\u001b[1;32m     12\u001b[0m          \"The scalars a and b do not bound a root\")\n\u001b[1;32m     13\u001b[0m \u001b[0;34m\u001b[0m\u001b[0m\n",
            "\u001b[0;31mException\u001b[0m: The scalars a and b do not bound a root"
          ]
        }
      ]
    },
    {
      "cell_type": "markdown",
      "source": [
        "19.4 Newton-Raphson Method"
      ],
      "metadata": {
        "id": "XRQWlYHBfQpy"
      }
    },
    {
      "cell_type": "markdown",
      "source": [
        "The Newton-Raphson method uses derivates and estimations to find the root of a continuous, smooth function. By finding an estimate and generating a tangent line and finding the intersection of that line with the x-axis. Then the new tested x-value is that intersection and the process continues until an acceptable answer is found. "
      ],
      "metadata": {
        "id": "QD27p4-7ffhG"
      }
    },
    {
      "cell_type": "markdown",
      "source": [
        "Use the Newton-Raphson method to find the root of x^2 - 2 with a tolerance of 1e-6. "
      ],
      "metadata": {
        "id": "OnafMgJWxJh-"
      }
    },
    {
      "cell_type": "code",
      "source": [
        "import numpy as np\n",
        "\n",
        "f = lambda x: x**2 - 2\n",
        "f_prime = lambda x: 2*x\n",
        "\n",
        "def my_newton(f, df, x0, tol):\n",
        "    # output is an estimation of the root of f \n",
        "    # using the Newton Raphson method\n",
        "    # recursive implementation\n",
        "    if abs(f(x0)) < tol:\n",
        "        return x0\n",
        "    else:\n",
        "        return my_newton(f, df, x0 - f(x0)/df(x0), tol)\n",
        "\n",
        "estimate = my_newton(f, f_prime, 1.5, 1e-6)\n",
        "print(\"estimate =\", estimate)\n",
        "print(\"sqrt(2) =\", np.sqrt(2))"
      ],
      "metadata": {
        "colab": {
          "base_uri": "https://localhost:8080/"
        },
        "id": "XlfO93wVzDzr",
        "outputId": "acccba92-1ac9-4505-bdbd-b4420c455f25"
      },
      "execution_count": 1,
      "outputs": [
        {
          "output_type": "stream",
          "name": "stdout",
          "text": [
            "estimate = 1.4142135623746899\n",
            "sqrt(2) = 1.4142135623730951\n"
          ]
        }
      ]
    },
    {
      "cell_type": "markdown",
      "source": [
        "This method comes with some drawbacks. First if the initial guess is far away from the root value it may be very slow to find the root. Secondly, if the derivative of a guess is close to 0, then the step could lead far away from the root. It may also lead to a root that is different than the desired."
      ],
      "metadata": {
        "id": "rYasUdi50TGR"
      }
    },
    {
      "cell_type": "markdown",
      "source": [
        "19.5 Root Finding in Python"
      ],
      "metadata": {
        "id": "uik8WToq8xWP"
      }
    },
    {
      "cell_type": "markdown",
      "source": [
        "Python has its own method for finding roots which simply involves providing the function and initial guesses."
      ],
      "metadata": {
        "id": "WCXexIcW85zg"
      }
    },
    {
      "cell_type": "markdown",
      "source": [
        "Compute the roots of x^3 - 100x^2 - x + 100"
      ],
      "metadata": {
        "id": "Rs1ms8mD9AKr"
      }
    },
    {
      "cell_type": "code",
      "source": [
        "from scipy.optimize import fsolve\n",
        "\n",
        "f = lambda x: x**3-100*x**2-x+100\n",
        "\n",
        "fsolve(f, [2, 80])"
      ],
      "metadata": {
        "colab": {
          "base_uri": "https://localhost:8080/"
        },
        "id": "lT05RDoc9G3X",
        "outputId": "04d0d087-e4d5-4537-9bbd-f71bb9c15a1e"
      },
      "execution_count": 2,
      "outputs": [
        {
          "output_type": "execute_result",
          "data": {
            "text/plain": [
              "array([  1., 100.])"
            ]
          },
          "metadata": {},
          "execution_count": 2
        }
      ]
    }
  ]
}
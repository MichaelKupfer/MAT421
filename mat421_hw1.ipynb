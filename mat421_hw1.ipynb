{
  "nbformat": 4,
  "nbformat_minor": 0,
  "metadata": {
    "colab": {
      "provenance": [],
      "authorship_tag": "ABX9TyNFMnabaEAP1da0gRVLwlZI",
      "include_colab_link": true
    },
    "kernelspec": {
      "name": "python3",
      "display_name": "Python 3"
    },
    "language_info": {
      "name": "python"
    }
  },
  "cells": [
    {
      "cell_type": "markdown",
      "metadata": {
        "id": "view-in-github",
        "colab_type": "text"
      },
      "source": [
        "<a href=\"https://colab.research.google.com/gist/MichaelKupfer/1152c3325bf6682881c105702da17737/mat421_hw1.ipynb\" target=\"_parent\"><img src=\"https://colab.research.google.com/assets/colab-badge.svg\" alt=\"Open In Colab\"/></a>"
      ]
    },
    {
      "cell_type": "markdown",
      "source": [
        "**Chapter 9 - Representation of Numbers**"
      ],
      "metadata": {
        "id": "NNDKrCmzTQ6m"
      }
    },
    {
      "cell_type": "markdown",
      "source": [
        "9.1 Base-N and Binary"
      ],
      "metadata": {
        "id": "Gep0D776TlEK"
      }
    },
    {
      "cell_type": "markdown",
      "source": [
        "Convert Base-10 numbers to binary"
      ],
      "metadata": {
        "id": "bZfzACWeTzQU"
      }
    },
    {
      "cell_type": "code",
      "source": [
        "bin(7)"
      ],
      "metadata": {
        "colab": {
          "base_uri": "https://localhost:8080/",
          "height": 35
        },
        "id": "Y5yA_jyFTHNS",
        "outputId": "27824c22-9f14-45d4-81e2-3c67b3be4663"
      },
      "execution_count": null,
      "outputs": [
        {
          "output_type": "execute_result",
          "data": {
            "text/plain": [
              "'0b111'"
            ],
            "application/vnd.google.colaboratory.intrinsic+json": {
              "type": "string"
            }
          },
          "metadata": {},
          "execution_count": 3
        }
      ]
    },
    {
      "cell_type": "code",
      "source": [
        "bin(13)"
      ],
      "metadata": {
        "colab": {
          "base_uri": "https://localhost:8080/",
          "height": 35
        },
        "id": "PwASa3K_T_M-",
        "outputId": "180e6c68-8ced-4854-fdb6-311f8db561f7"
      },
      "execution_count": null,
      "outputs": [
        {
          "output_type": "execute_result",
          "data": {
            "text/plain": [
              "'0b1101'"
            ],
            "application/vnd.google.colaboratory.intrinsic+json": {
              "type": "string"
            }
          },
          "metadata": {},
          "execution_count": 4
        }
      ]
    },
    {
      "cell_type": "markdown",
      "source": [
        "Initialize variables as binary values and perform calculations"
      ],
      "metadata": {
        "id": "J23MTbMuULlU"
      }
    },
    {
      "cell_type": "code",
      "source": [
        "a = 0b111\n",
        "b = 0b1101\n",
        "print(a+b)\n",
        "print(a*b)"
      ],
      "metadata": {
        "colab": {
          "base_uri": "https://localhost:8080/"
        },
        "id": "DhkMWj5QUKzv",
        "outputId": "aaa7f2f1-0b36-4b9c-9e2a-7d87a1955478"
      },
      "execution_count": null,
      "outputs": [
        {
          "output_type": "stream",
          "name": "stdout",
          "text": [
            "20\n",
            "91\n"
          ]
        }
      ]
    },
    {
      "cell_type": "markdown",
      "source": [
        "9.2 Floating Point Numbers"
      ],
      "metadata": {
        "id": "14eAcqQHUgfi"
      }
    },
    {
      "cell_type": "code",
      "source": [
        "import sys\n",
        "import numpy as np"
      ],
      "metadata": {
        "id": "qr61UDmCVnGl"
      },
      "execution_count": null,
      "outputs": []
    },
    {
      "cell_type": "markdown",
      "source": [
        "Show that adding a number less than half the gap between numbers results in the same number"
      ],
      "metadata": {
        "id": "U41DgMwWWDd8"
      }
    },
    {
      "cell_type": "code",
      "source": [
        "1e9 == (1e9 + np.spacing(1e9)/4)"
      ],
      "metadata": {
        "colab": {
          "base_uri": "https://localhost:8080/"
        },
        "id": "pqnFgO_UWQ0E",
        "outputId": "a4cc4c08-6e0e-41fb-cc2e-1a007a408a84"
      },
      "execution_count": null,
      "outputs": [
        {
          "output_type": "execute_result",
          "data": {
            "text/plain": [
              "True"
            ]
          },
          "metadata": {},
          "execution_count": 10
        }
      ]
    },
    {
      "cell_type": "markdown",
      "source": [
        "Display max and min floating points numbers"
      ],
      "metadata": {
        "id": "w_N_A6nEWrI-"
      }
    },
    {
      "cell_type": "code",
      "source": [
        "print(sys.float_info.max)\n",
        "print(sys.float_info.min)"
      ],
      "metadata": {
        "colab": {
          "base_uri": "https://localhost:8080/"
        },
        "id": "PeLcpwR6Wuzp",
        "outputId": "205ccbeb-e726-42b9-a8d4-0136a3668a9b"
      },
      "execution_count": null,
      "outputs": [
        {
          "output_type": "stream",
          "name": "stdout",
          "text": [
            "1.7976931348623157e+308\n",
            "2.2250738585072014e-308\n"
          ]
        }
      ]
    },
    {
      "cell_type": "markdown",
      "source": [
        "Show effects of lack of precision in float numbers and overflow and underflow \n",
        "issues"
      ],
      "metadata": {
        "id": "z-3fR7fBXKxf"
      }
    },
    {
      "cell_type": "code",
      "source": [
        "print(sys.float_info.max + 10 == sys.float_info.max)\n",
        "print(sys.float_info.max + sys.float_info.max)\n",
        "print(2**(-1075))"
      ],
      "metadata": {
        "colab": {
          "base_uri": "https://localhost:8080/"
        },
        "id": "gcb633VhXPd3",
        "outputId": "556c9d6d-1af7-4eae-f47c-b04621e7d550"
      },
      "execution_count": null,
      "outputs": [
        {
          "output_type": "stream",
          "name": "stdout",
          "text": [
            "True\n",
            "inf\n",
            "0.0\n"
          ]
        }
      ]
    },
    {
      "cell_type": "markdown",
      "source": [
        "9.3 Round-off Errors"
      ],
      "metadata": {
        "id": "rSKT0IqQX59e"
      }
    },
    {
      "cell_type": "markdown",
      "source": [
        "Show a basic round-off error"
      ],
      "metadata": {
        "id": "Usiv5Yi4YBBW"
      }
    },
    {
      "cell_type": "code",
      "source": [
        "7.55 - 6.4 == 1.15"
      ],
      "metadata": {
        "colab": {
          "base_uri": "https://localhost:8080/"
        },
        "id": "hTmdXx7YYPc2",
        "outputId": "85a68d95-ead3-46bb-e0bb-f86e0c882695"
      },
      "execution_count": null,
      "outputs": [
        {
          "output_type": "execute_result",
          "data": {
            "text/plain": [
              "False"
            ]
          },
          "metadata": {},
          "execution_count": 16
        }
      ]
    },
    {
      "cell_type": "markdown",
      "source": [
        "Use the round function to help with round-off errors"
      ],
      "metadata": {
        "id": "S_-haAiMYZfr"
      }
    },
    {
      "cell_type": "code",
      "source": [
        "round(7.55 - 6.4, 5) == round(1.15,5)"
      ],
      "metadata": {
        "colab": {
          "base_uri": "https://localhost:8080/"
        },
        "id": "ViHoOeY7fS-M",
        "outputId": "1671f42e-5380-4e8c-9fd2-ae80c16cc60f"
      },
      "execution_count": null,
      "outputs": [
        {
          "output_type": "execute_result",
          "data": {
            "text/plain": [
              "True"
            ]
          },
          "metadata": {},
          "execution_count": 17
        }
      ]
    },
    {
      "cell_type": "markdown",
      "source": [
        "Show the accumulation of round-off errors"
      ],
      "metadata": {
        "id": "NDDn5EOWfa2h"
      }
    },
    {
      "cell_type": "code",
      "source": [
        "def roundoff_accum(iterations):\n",
        "    result = 1\n",
        "    for i in range(iterations):\n",
        "        result += 1/3\n",
        "\n",
        "    for i in range(iterations):\n",
        "        result -= 1/3\n",
        "\n",
        "    return result \n",
        "\n",
        "print(roundoff_accum(100))\n",
        "print(roundoff_accum(10000))"
      ],
      "metadata": {
        "colab": {
          "base_uri": "https://localhost:8080/"
        },
        "id": "gEmp71NlfiDy",
        "outputId": "47e76b9e-c1ef-4c64-88c8-102b2383b57f"
      },
      "execution_count": null,
      "outputs": [
        {
          "output_type": "stream",
          "name": "stdout",
          "text": [
            "1.0000000000000002\n",
            "1.0000000000001166\n"
          ]
        }
      ]
    }
  ]
}
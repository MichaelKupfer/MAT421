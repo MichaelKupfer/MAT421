{
  "nbformat": 4,
  "nbformat_minor": 0,
  "metadata": {
    "colab": {
      "provenance": [],
      "authorship_tag": "ABX9TyNQP+MmA1TxHqbQfK1/eEjj",
      "include_colab_link": true
    },
    "kernelspec": {
      "name": "python3",
      "display_name": "Python 3"
    },
    "language_info": {
      "name": "python"
    }
  },
  "cells": [
    {
      "cell_type": "markdown",
      "metadata": {
        "id": "view-in-github",
        "colab_type": "text"
      },
      "source": [
        "<a href=\"https://colab.research.google.com/github/MichaelKupfer/MAT421/blob/main/mat421_hw5.ipynb\" target=\"_parent\"><img src=\"https://colab.research.google.com/assets/colab-badge.svg\" alt=\"Open In Colab\"/></a>"
      ]
    },
    {
      "cell_type": "markdown",
      "source": [
        "Chapter 1 - Linear Equations"
      ],
      "metadata": {
        "id": "Zq3OZ2pOflVX"
      }
    },
    {
      "cell_type": "markdown",
      "source": [
        "1.1 Linear Algebra and Systems of Linear Equations"
      ],
      "metadata": {
        "id": "n-DWQDX7ftVg"
      }
    },
    {
      "cell_type": "markdown",
      "source": [
        "Linear algebra can primarily be defined by vectors and matrices. Vectors can be either row or column vector and represent points in R^n. Vectors are linearly independent if none of the vectors can be written as a linear combination of the others. "
      ],
      "metadata": {
        "id": "e9eWK-rQfzOk"
      }
    },
    {
      "cell_type": "markdown",
      "source": [
        "Matrices are tables of numbers and have several important properties such as determinant, rank, and inverse. One advantage of matrices is that they can be used to solve systems of linear equations. There are multiple methods to solve these systems such as: Gauss Elimination, Gauss-Jordan Elimination, LU Decomposition, and Gauss-Seidel. Of course, Python has its own function that uses LU Decomposition to solve these systems very quickly"
      ],
      "metadata": {
        "id": "OoR5LbO4gZXI"
      }
    },
    {
      "cell_type": "markdown",
      "source": [
        "Practice: Use solve method from numpy to find the solution to the system"
      ],
      "metadata": {
        "id": "tV3pmRsThOLn"
      }
    },
    {
      "cell_type": "code",
      "source": [
        "import numpy as np\n",
        "\n",
        "#A is the initial array and is a 3x3 matrix. Each row represents an equation while the columns represent the different variables.\n",
        "A = np.array([[4, 3, -5], \n",
        "              [-2, -4, 5], \n",
        "              [8, 8, 0]])\n",
        "#y contains the right side values of the system of equations. \n",
        "y = np.array([2, 5, -3])\n",
        "\n",
        "#use solve method to determine solutions\n",
        "x = np.linalg.solve(A, y)\n",
        "print(x)"
      ],
      "metadata": {
        "colab": {
          "base_uri": "https://localhost:8080/"
        },
        "id": "3bj7y_bShWSW",
        "outputId": "e1ba6d43-01ce-437a-f79b-8bcda57f00e6"
      },
      "execution_count": 1,
      "outputs": [
        {
          "output_type": "stream",
          "name": "stdout",
          "text": [
            "[ 2.20833333 -2.58333333 -0.18333333]\n"
          ]
        }
      ]
    },
    {
      "cell_type": "markdown",
      "source": [
        "This solution can be checked by also using the matrix inverse method which simply takes the inverse of the square and multiplies it with the y matrix."
      ],
      "metadata": {
        "id": "hiit7y2jh-Oo"
      }
    },
    {
      "cell_type": "markdown",
      "source": [
        "Practice: Confirm solution using inverse"
      ],
      "metadata": {
        "id": "Kj2KvK7NiKff"
      }
    },
    {
      "cell_type": "code",
      "source": [
        "#Create the inverse matrix\n",
        "A_inv = np.linalg.inv(A)\n",
        "\n",
        "#Solve for x\n",
        "x = np.dot(A_inv, y)\n",
        "print(x)"
      ],
      "metadata": {
        "colab": {
          "base_uri": "https://localhost:8080/"
        },
        "id": "wz1dhBl5iOk4",
        "outputId": "04ad2d86-2f74-4ec2-9317-024dc712e806"
      },
      "execution_count": 2,
      "outputs": [
        {
          "output_type": "stream",
          "name": "stdout",
          "text": [
            "[ 2.20833333 -2.58333333 -0.18333333]\n"
          ]
        }
      ]
    },
    {
      "cell_type": "markdown",
      "source": [
        "We can also decompose the solution into the L and U matrices to follow along with the solution"
      ],
      "metadata": {
        "id": "5q4eD5DeidHb"
      }
    },
    {
      "cell_type": "code",
      "source": [
        "from scipy.linalg import lu\n",
        "\n",
        "P, L, U = lu(A)\n",
        "print('P:\\n', P)\n",
        "print('L:\\n', L)\n",
        "print('U:\\n', U)\n",
        "print('LU:\\n',np.dot(L, U))"
      ],
      "metadata": {
        "colab": {
          "base_uri": "https://localhost:8080/"
        },
        "id": "S781YT-cih8r",
        "outputId": "db25e935-e1f1-40bb-c134-45110a6cd56e"
      },
      "execution_count": 3,
      "outputs": [
        {
          "output_type": "stream",
          "name": "stdout",
          "text": [
            "P:\n",
            " [[0. 0. 1.]\n",
            " [0. 1. 0.]\n",
            " [1. 0. 0.]]\n",
            "L:\n",
            " [[ 1.    0.    0.  ]\n",
            " [-0.25  1.    0.  ]\n",
            " [ 0.5   0.5   1.  ]]\n",
            "U:\n",
            " [[ 8.   8.   0. ]\n",
            " [ 0.  -2.   5. ]\n",
            " [ 0.   0.  -7.5]]\n",
            "LU:\n",
            " [[ 8.  8.  0.]\n",
            " [-2. -4.  5.]\n",
            " [ 4.  3. -5.]]\n"
          ]
        }
      ]
    },
    {
      "cell_type": "markdown",
      "source": [
        "The P matrix is the permutation matrix that moves the equations around in order to create easier calculations. "
      ],
      "metadata": {
        "id": "NArBv7rmiljM"
      }
    },
    {
      "cell_type": "markdown",
      "source": [
        "We can also use these methods to find inverses for larger and larger matrices. By setting the right side variables to be the corresponding values of [1,0,0,0] and solving the systems we can determine the inverse."
      ],
      "metadata": {
        "id": "hpVb9gDMjAGl"
      }
    },
    {
      "cell_type": "markdown",
      "source": [
        "Practice: Find the inverse of a 4x4 matrix by using the solve method in numpy"
      ],
      "metadata": {
        "id": "nVhv6pvKjQX2"
      }
    },
    {
      "cell_type": "code",
      "source": [
        "#Create 4x4 matrix\n",
        "M = np.array([[4, 3, -5, 1], \n",
        "              [-2, -4, 5, 3], \n",
        "              [8, 8, 0, 2],\n",
        "              [4, 2, 3, 5]])\n",
        "\n",
        "#Parameters for inverse\n",
        "y1 = np.array([1,0,0,0])\n",
        "y2 = np.array([0,1,0,0])\n",
        "y3 = np.array([0,0,1,0])\n",
        "y4 = np.array([0,0,0,1])\n",
        "\n",
        "#Solve each system\n",
        "x1 = np.linalg.solve(M, y1)\n",
        "x2 = np.linalg.solve(M, y2)\n",
        "x3 = np.linalg.solve(M, y3)\n",
        "x4 = np.linalg.solve(M, y4)\n",
        "print(x1)\n",
        "print(x2)\n",
        "print(x3)\n",
        "print(x4)\n",
        "\n",
        "#Confirm solution matches\n",
        "M_inv = np.linalg.inv(M)\n",
        "print(M_inv)"
      ],
      "metadata": {
        "colab": {
          "base_uri": "https://localhost:8080/"
        },
        "id": "m609KXOtjVey",
        "outputId": "c8dc7051-3621-44f0-f369-572123aa6576"
      },
      "execution_count": 24,
      "outputs": [
        {
          "output_type": "stream",
          "name": "stdout",
          "text": [
            "[ 0.72413793 -0.65517241 -0.06896552 -0.27586207]\n",
            "[ 1.60344828 -1.37931034  0.27586207 -0.89655172]\n",
            "[ 0.89655172 -0.62068966  0.22413793 -0.60344828]\n",
            "[-1.46551724  1.20689655 -0.24137931  1.03448276]\n",
            "[[ 0.72413793  1.60344828  0.89655172 -1.46551724]\n",
            " [-0.65517241 -1.37931034 -0.62068966  1.20689655]\n",
            " [-0.06896552  0.27586207  0.22413793 -0.24137931]\n",
            " [-0.27586207 -0.89655172 -0.60344828  1.03448276]]\n"
          ]
        }
      ]
    },
    {
      "cell_type": "markdown",
      "source": [],
      "metadata": {
        "id": "YNkFxCFFsSrE"
      }
    }
  ]
}
{
  "nbformat": 4,
  "nbformat_minor": 0,
  "metadata": {
    "colab": {
      "provenance": [],
      "authorship_tag": "ABX9TyOoW2A59KR7JPB/PfYSsACy",
      "include_colab_link": true
    },
    "kernelspec": {
      "name": "python3",
      "display_name": "Python 3"
    },
    "language_info": {
      "name": "python"
    }
  },
  "cells": [
    {
      "cell_type": "markdown",
      "metadata": {
        "id": "view-in-github",
        "colab_type": "text"
      },
      "source": [
        "<a href=\"https://colab.research.google.com/github/MichaelKupfer/MAT421/blob/main/mat421_hw5.ipynb\" target=\"_parent\"><img src=\"https://colab.research.google.com/assets/colab-badge.svg\" alt=\"Open In Colab\"/></a>"
      ]
    },
    {
      "cell_type": "markdown",
      "source": [
        "Chapter 1 - Linear Equations"
      ],
      "metadata": {
        "id": "Zq3OZ2pOflVX"
      }
    },
    {
      "cell_type": "markdown",
      "source": [
        "1.1 Linear Algebra and Systems of Linear Equations"
      ],
      "metadata": {
        "id": "n-DWQDX7ftVg"
      }
    },
    {
      "cell_type": "markdown",
      "source": [
        "Linear algebra can primarily be defined by vectors and matrices. Vectors can be either row or column vector and represent points in R^n. Vectors are linearly independent if none of the vectors can be written as a linear combination of the others. "
      ],
      "metadata": {
        "id": "e9eWK-rQfzOk"
      }
    },
    {
      "cell_type": "markdown",
      "source": [
        "Matrices are tables of numbers and have several important properties such as determinant, rank, and inverse. One advantage of matrices is that they can be used to solve systems of linear equations. There are multiple methods to solve these systems such as: Gauss Elimination, Gauss-Jordan Elimination, LU Decomposition, and Gauss-Seidel. Of course, Python has its own function that uses LU Decomposition to solve these systems very quickly"
      ],
      "metadata": {
        "id": "OoR5LbO4gZXI"
      }
    },
    {
      "cell_type": "markdown",
      "source": [
        "Practice: Use solve method from numpy to find the solution to the system"
      ],
      "metadata": {
        "id": "tV3pmRsThOLn"
      }
    },
    {
      "cell_type": "code",
      "source": [
        "import numpy as np\n",
        "\n",
        "#A is the initial array and is a 3x3 matrix. Each row represents an equation while the columns represent the different variables.\n",
        "A = np.array([[4, 3, -5], \n",
        "              [-2, -4, 5], \n",
        "              [8, 8, 0]])\n",
        "#y contains the right side values of the system of equations. \n",
        "y = np.array([2, 5, -3])\n",
        "\n",
        "#use solve method to determine solutions\n",
        "x = np.linalg.solve(A, y)\n",
        "print(x)"
      ],
      "metadata": {
        "colab": {
          "base_uri": "https://localhost:8080/"
        },
        "id": "3bj7y_bShWSW",
        "outputId": "e1ba6d43-01ce-437a-f79b-8bcda57f00e6"
      },
      "execution_count": null,
      "outputs": [
        {
          "output_type": "stream",
          "name": "stdout",
          "text": [
            "[ 2.20833333 -2.58333333 -0.18333333]\n"
          ]
        }
      ]
    },
    {
      "cell_type": "markdown",
      "source": [
        "This solution can be checked by also using the matrix inverse method which simply takes the inverse of the square and multiplies it with the y matrix."
      ],
      "metadata": {
        "id": "hiit7y2jh-Oo"
      }
    },
    {
      "cell_type": "markdown",
      "source": [
        "Practice: Confirm solution using inverse"
      ],
      "metadata": {
        "id": "Kj2KvK7NiKff"
      }
    },
    {
      "cell_type": "code",
      "source": [
        "#Create the inverse matrix\n",
        "A_inv = np.linalg.inv(A)\n",
        "\n",
        "#Solve for x\n",
        "x = np.dot(A_inv, y)\n",
        "print(x)"
      ],
      "metadata": {
        "colab": {
          "base_uri": "https://localhost:8080/"
        },
        "id": "wz1dhBl5iOk4",
        "outputId": "04ad2d86-2f74-4ec2-9317-024dc712e806"
      },
      "execution_count": null,
      "outputs": [
        {
          "output_type": "stream",
          "name": "stdout",
          "text": [
            "[ 2.20833333 -2.58333333 -0.18333333]\n"
          ]
        }
      ]
    },
    {
      "cell_type": "markdown",
      "source": [
        "We can also decompose the solution into the L and U matrices to follow along with the solution"
      ],
      "metadata": {
        "id": "5q4eD5DeidHb"
      }
    },
    {
      "cell_type": "code",
      "source": [
        "from scipy.linalg import lu\n",
        "\n",
        "P, L, U = lu(A)\n",
        "print('P:\\n', P)\n",
        "print('L:\\n', L)\n",
        "print('U:\\n', U)\n",
        "print('LU:\\n',np.dot(L, U))"
      ],
      "metadata": {
        "colab": {
          "base_uri": "https://localhost:8080/"
        },
        "id": "S781YT-cih8r",
        "outputId": "db25e935-e1f1-40bb-c134-45110a6cd56e"
      },
      "execution_count": null,
      "outputs": [
        {
          "output_type": "stream",
          "name": "stdout",
          "text": [
            "P:\n",
            " [[0. 0. 1.]\n",
            " [0. 1. 0.]\n",
            " [1. 0. 0.]]\n",
            "L:\n",
            " [[ 1.    0.    0.  ]\n",
            " [-0.25  1.    0.  ]\n",
            " [ 0.5   0.5   1.  ]]\n",
            "U:\n",
            " [[ 8.   8.   0. ]\n",
            " [ 0.  -2.   5. ]\n",
            " [ 0.   0.  -7.5]]\n",
            "LU:\n",
            " [[ 8.  8.  0.]\n",
            " [-2. -4.  5.]\n",
            " [ 4.  3. -5.]]\n"
          ]
        }
      ]
    },
    {
      "cell_type": "markdown",
      "source": [
        "The P matrix is the permutation matrix that moves the equations around in order to create easier calculations. "
      ],
      "metadata": {
        "id": "NArBv7rmiljM"
      }
    },
    {
      "cell_type": "markdown",
      "source": [
        "We can also use these methods to find inverses for larger and larger matrices. By setting the right side variables to be the corresponding values of [1,0,0,0] and solving the systems we can determine the inverse."
      ],
      "metadata": {
        "id": "hpVb9gDMjAGl"
      }
    },
    {
      "cell_type": "markdown",
      "source": [
        "Practice: Find the inverse of a 4x4 matrix by using the solve method in numpy"
      ],
      "metadata": {
        "id": "nVhv6pvKjQX2"
      }
    },
    {
      "cell_type": "code",
      "source": [
        "#Create 4x4 matrix\n",
        "M = np.array([[4, 3, -5, 1], \n",
        "              [-2, -4, 5, 3], \n",
        "              [8, 8, 0, 2],\n",
        "              [4, 2, 3, 5]])\n",
        "\n",
        "#Parameters for inverse\n",
        "y1 = np.array([1,0,0,0])\n",
        "y2 = np.array([0,1,0,0])\n",
        "y3 = np.array([0,0,1,0])\n",
        "y4 = np.array([0,0,0,1])\n",
        "\n",
        "#Solve each system\n",
        "x1 = np.linalg.solve(M, y1)\n",
        "x2 = np.linalg.solve(M, y2)\n",
        "x3 = np.linalg.solve(M, y3)\n",
        "x4 = np.linalg.solve(M, y4)\n",
        "print(x1)\n",
        "print(x2)\n",
        "print(x3)\n",
        "print(x4)\n",
        "\n",
        "#Confirm solution matches\n",
        "M_inv = np.linalg.inv(M)\n",
        "print(M_inv)"
      ],
      "metadata": {
        "colab": {
          "base_uri": "https://localhost:8080/"
        },
        "id": "m609KXOtjVey",
        "outputId": "c8dc7051-3621-44f0-f369-572123aa6576"
      },
      "execution_count": null,
      "outputs": [
        {
          "output_type": "stream",
          "name": "stdout",
          "text": [
            "[ 0.72413793 -0.65517241 -0.06896552 -0.27586207]\n",
            "[ 1.60344828 -1.37931034  0.27586207 -0.89655172]\n",
            "[ 0.89655172 -0.62068966  0.22413793 -0.60344828]\n",
            "[-1.46551724  1.20689655 -0.24137931  1.03448276]\n",
            "[[ 0.72413793  1.60344828  0.89655172 -1.46551724]\n",
            " [-0.65517241 -1.37931034 -0.62068966  1.20689655]\n",
            " [-0.06896552  0.27586207  0.22413793 -0.24137931]\n",
            " [-0.27586207 -0.89655172 -0.60344828  1.03448276]]\n"
          ]
        }
      ]
    },
    {
      "cell_type": "markdown",
      "source": [
        "1.2 Eigenvalues and Eigenvectors"
      ],
      "metadata": {
        "id": "YNkFxCFFsSrE"
      }
    },
    {
      "cell_type": "markdown",
      "source": [
        "Eigenvectors are the vectors, x, that cause the transformation of the multiplication of Ax to be just in scale. The eigenvalues are the scale factors. The eigenvalues and eigenvectors can be found using the characteristic equation, but when you have larger matrices different numerical methods must be used."
      ],
      "metadata": {
        "id": "vLWrzq5KHW5v"
      }
    },
    {
      "cell_type": "markdown",
      "source": [
        "The Power Method is an iterative method that finds the largest dominant eigenvalue and its eigenvector. The iteration stops when the difference between eigenvalues is less than the specificed tolerance, the angle between eigenvectors is less than the specified tolerance, or the norm of the residual vector is small enough."
      ],
      "metadata": {
        "id": "7BuJJ3N6Ie1t"
      }
    },
    {
      "cell_type": "markdown",
      "source": [
        "Practice: Perform the power method in python"
      ],
      "metadata": {
        "id": "6jRlcXsLI3Kk"
      }
    },
    {
      "cell_type": "code",
      "source": [
        "import numpy as np"
      ],
      "metadata": {
        "id": "zGnRSjtmI5gV"
      },
      "execution_count": 1,
      "outputs": []
    },
    {
      "cell_type": "code",
      "source": [
        "#factor out largest value in array so largest element is 1\n",
        "def normalize(x):\n",
        "    fac = abs(x).max()\n",
        "    x_n = x / x.max()\n",
        "    return fac, x_n"
      ],
      "metadata": {
        "id": "GjTe7hXXI8Ai"
      },
      "execution_count": 2,
      "outputs": []
    },
    {
      "cell_type": "code",
      "source": [
        "#initial iteration\n",
        "x = np.array([1, 1])\n",
        "#array to find eigenvalues\n",
        "a = np.array([[0, 2], \n",
        "              [2, 3]])\n",
        "\n",
        "#iterations\n",
        "for i in range(8):\n",
        "    x = np.dot(a, x)\n",
        "    lambda_1, x = normalize(x)\n",
        "    \n",
        "print('Eigenvalue:', lambda_1)\n",
        "print('Eigenvector:', x)"
      ],
      "metadata": {
        "colab": {
          "base_uri": "https://localhost:8080/"
        },
        "id": "Rr7QUmnsJKSw",
        "outputId": "67e83a03-3231-4e2d-a692-0720e135ef35"
      },
      "execution_count": 3,
      "outputs": [
        {
          "output_type": "stream",
          "name": "stdout",
          "text": [
            "Eigenvalue: 3.999949137887188\n",
            "Eigenvector: [0.50000636 1.        ]\n"
          ]
        }
      ]
    },
    {
      "cell_type": "markdown",
      "source": [
        "Since the eigenvalues of the inverse of A are the reciprocals of the eigenvalues of A, we can use the inverse power method to find the smallest eigenvalue. By replacing A with the inverse of A in the iteration the iteration will return the reciprocal of the smallest eigenvalue."
      ],
      "metadata": {
        "id": "NQ6LG0QJJwrh"
      }
    },
    {
      "cell_type": "markdown",
      "source": [
        "The shifted power method also allows you to find eigenvalues that are not the smallest or largest, but it is inefficient."
      ],
      "metadata": {
        "id": "a3-Ym218Kc6o"
      }
    },
    {
      "cell_type": "markdown",
      "source": [
        "The QR method will return all eigenvalues of a matrix, but not the eigenvectors. This method uses the fact that similar matrices will have the same eigenvalues. It decomposes the matrix into two matrices Q and R. Q is orthogonal which means its inverse is equal to its transpose while R is an upper triangular matrix. Then through iteration the matrix will eventually converge to eigenvalues. "
      ],
      "metadata": {
        "id": "mMAlP9RnKkut"
      }
    },
    {
      "cell_type": "markdown",
      "source": [
        "Practice: Use the QR method to find eigenvalues"
      ],
      "metadata": {
        "id": "69e6WjDzL1Jw"
      }
    },
    {
      "cell_type": "code",
      "source": [
        "import numpy as np\n",
        "from numpy.linalg import qr"
      ],
      "metadata": {
        "id": "B3RpmQ1ALxhR"
      },
      "execution_count": 4,
      "outputs": []
    },
    {
      "cell_type": "code",
      "source": [
        "#initial matrix\n",
        "a = np.array([[0, 2], \n",
        "              [2, 3]])\n",
        "\n",
        "#QR method in numpy\n",
        "q, r = qr(a)\n",
        "\n",
        "#Print Q and R matrices\n",
        "print('Q:', q)\n",
        "print('R:', r)\n",
        "\n",
        "#product of Q and R (should equal A)\n",
        "b = np.dot(q, r)\n",
        "print('QR:', b)"
      ],
      "metadata": {
        "colab": {
          "base_uri": "https://localhost:8080/"
        },
        "id": "74vVwHslL6oV",
        "outputId": "e27ab8a2-0af9-49c3-f798-76d586ae63c2"
      },
      "execution_count": 5,
      "outputs": [
        {
          "output_type": "stream",
          "name": "stdout",
          "text": [
            "Q: [[ 0. -1.]\n",
            " [-1.  0.]]\n",
            "R: [[-2. -3.]\n",
            " [ 0. -2.]]\n",
            "QR: [[0. 2.]\n",
            " [2. 3.]]\n"
          ]
        }
      ]
    },
    {
      "cell_type": "code",
      "source": [
        "a = np.array([[0, 2], \n",
        "              [2, 3]])\n",
        "p = [1, 5, 10, 20]\n",
        "for i in range(20):\n",
        "    q, r = qr(a)\n",
        "    a = np.dot(r, q)\n",
        "    if i+1 in p:\n",
        "        print(f'Iteration {i+1}:')\n",
        "        print(a)"
      ],
      "metadata": {
        "colab": {
          "base_uri": "https://localhost:8080/"
        },
        "id": "ygOiTmbnMJ9g",
        "outputId": "46db9c11-e859-47bc-f53d-9a8fc57767a0"
      },
      "execution_count": 6,
      "outputs": [
        {
          "output_type": "stream",
          "name": "stdout",
          "text": [
            "Iteration 1:\n",
            "[[3. 2.]\n",
            " [2. 0.]]\n",
            "Iteration 5:\n",
            "[[ 3.99998093  0.00976559]\n",
            " [ 0.00976559 -0.99998093]]\n",
            "Iteration 10:\n",
            "[[ 4.00000000e+00  9.53674316e-06]\n",
            " [ 9.53674316e-06 -1.00000000e+00]]\n",
            "Iteration 20:\n",
            "[[ 4.00000000e+00  9.09484250e-12]\n",
            " [ 9.09494702e-12 -1.00000000e+00]]\n"
          ]
        }
      ]
    },
    {
      "cell_type": "markdown",
      "source": [
        "Eigenvalues and eigenvectors can also easily be found using methods in Python"
      ],
      "metadata": {
        "id": "MrlSs0drMjBj"
      }
    },
    {
      "cell_type": "markdown",
      "source": [
        "Practice: Find eigenvalues and eigenvectors of larger matrix"
      ],
      "metadata": {
        "id": "r4AfucZ0MnnN"
      }
    },
    {
      "cell_type": "code",
      "source": [
        "import numpy as np\n",
        "from numpy.linalg import eig"
      ],
      "metadata": {
        "id": "Tn2TKQdZMq9f"
      },
      "execution_count": 7,
      "outputs": []
    },
    {
      "cell_type": "code",
      "source": [
        "a = np.array([[2, 2, 4], \n",
        "              [1, 3, 5],\n",
        "              [2, 3, 4]])\n",
        "w,v=eig(a)\n",
        "print('E-value:', w)\n",
        "print('E-vector', v)"
      ],
      "metadata": {
        "colab": {
          "base_uri": "https://localhost:8080/"
        },
        "id": "A-6W-dI_MsSs",
        "outputId": "d9e8f183-b9e8-4fd8-b486-bb54753c564a"
      },
      "execution_count": 8,
      "outputs": [
        {
          "output_type": "stream",
          "name": "stdout",
          "text": [
            "E-value: [ 8.80916362  0.92620912 -0.73537273]\n",
            "E-vector [[-0.52799324 -0.77557092 -0.36272811]\n",
            " [-0.604391    0.62277013 -0.7103262 ]\n",
            " [-0.59660259 -0.10318482  0.60321224]]\n"
          ]
        }
      ]
    },
    {
      "cell_type": "markdown",
      "source": [
        "1.3 Least Squares Regression"
      ],
      "metadata": {
        "id": "NcLfDjfLM2Dd"
      }
    },
    {
      "cell_type": "markdown",
      "source": [
        "The goal of least squares regression is to find an estimation function y(x) that describes the data given independent data points, x, and dependent data points, y. The estimation function is a linear combination of basis functions. Least squares regression finds the parameters that minimize the total squared error. "
      ],
      "metadata": {
        "id": "uY30CMiEM61L"
      }
    },
    {
      "cell_type": "markdown",
      "source": [
        "The parameters for least squares regression can be found through both linear algebra methods and multivariable calculus. The direct inverse method finds the parameters through linear algebra. "
      ],
      "metadata": {
        "id": "1e-3cOTdO57R"
      }
    },
    {
      "cell_type": "markdown",
      "source": [
        "Practice: Use the direct inverse method to find least squares regression"
      ],
      "metadata": {
        "id": "GHeo8A9qPRJi"
      }
    },
    {
      "cell_type": "code",
      "source": [
        "import numpy as np\n",
        "from scipy import optimize\n",
        "import matplotlib.pyplot as plt\n",
        "\n",
        "plt.style.use('seaborn-poster')"
      ],
      "metadata": {
        "id": "JayTvc-WPUVl"
      },
      "execution_count": 9,
      "outputs": []
    },
    {
      "cell_type": "code",
      "source": [
        "# generate x and y\n",
        "x = np.linspace(0, 1, 101)\n",
        "y = 1 + x + x * np.random.random(len(x))"
      ],
      "metadata": {
        "id": "7N_KN5sAPXFB"
      },
      "execution_count": 10,
      "outputs": []
    },
    {
      "cell_type": "code",
      "source": [
        "# assemble matrix A\n",
        "A = np.vstack([x, np.ones(len(x))]).T\n",
        "\n",
        "# turn y into a column vector\n",
        "y = y[:, np.newaxis]"
      ],
      "metadata": {
        "id": "2lEH3wDKPYrE"
      },
      "execution_count": 11,
      "outputs": []
    },
    {
      "cell_type": "code",
      "source": [
        "# Direct least square regression\n",
        "alpha = np.dot((np.dot(np.linalg.inv(np.dot(A.T,A)),A.T)),y)\n",
        "print(alpha)"
      ],
      "metadata": {
        "colab": {
          "base_uri": "https://localhost:8080/"
        },
        "id": "wtw991puPbuC",
        "outputId": "202b2460-be33-4e4c-d17c-1a82a9bbba0b"
      },
      "execution_count": 12,
      "outputs": [
        {
          "output_type": "stream",
          "name": "stdout",
          "text": [
            "[[1.54156407]\n",
            " [0.98812295]]\n"
          ]
        }
      ]
    },
    {
      "cell_type": "code",
      "source": [
        "# plot the results\n",
        "plt.figure(figsize = (10,8))\n",
        "plt.plot(x, y, 'b.')\n",
        "plt.plot(x, alpha[0]*x + alpha[1], 'r')\n",
        "plt.xlabel('x')\n",
        "plt.ylabel('y')\n",
        "plt.show()"
      ],
      "metadata": {
        "colab": {
          "base_uri": "https://localhost:8080/",
          "height": 519
        },
        "id": "WpcyzNurPgTz",
        "outputId": "75504321-711d-4544-cc8b-d581eceb9eca"
      },
      "execution_count": 13,
      "outputs": [
        {
          "output_type": "display_data",
          "data": {
            "text/plain": [
              "<Figure size 720x576 with 1 Axes>"
            ],
            "image/png": "[encoded data removed]"
          },
          "metadata": {
            "needs_background": "light"
          }
        }
      ]
    },
    {
      "cell_type": "markdown",
      "source": [
        "Can also use the lstsq method to find parameters as well."
      ],
      "metadata": {
        "id": "2iBdAOIhQKk7"
      }
    },
    {
      "cell_type": "code",
      "source": [
        "alpha = np.linalg.lstsq(A, y, rcond=None)[0]\n",
        "print(alpha)"
      ],
      "metadata": {
        "colab": {
          "base_uri": "https://localhost:8080/"
        },
        "id": "kE3w_ie7QKBw",
        "outputId": "01f7123d-d9e0-448e-90fc-595de8a66e45"
      },
      "execution_count": 14,
      "outputs": [
        {
          "output_type": "stream",
          "name": "stdout",
          "text": [
            "[[1.54156407]\n",
            " [0.98812295]]\n"
          ]
        }
      ]
    },
    {
      "cell_type": "markdown",
      "source": [
        "We can also perform transformations on functions that are not linear in order to perform linear regression. For a function that is raised to a power you can take the log of both sides of the function to get it in a linear form."
      ],
      "metadata": {
        "id": "9zkdLarPQfNU"
      }
    },
    {
      "cell_type": "markdown",
      "source": [
        "Practice: Perform log transformation to do linear regression"
      ],
      "metadata": {
        "id": "1NGfid4AQ26b"
      }
    },
    {
      "cell_type": "code",
      "source": [
        "# let's generate x and y, and add some noise into y\n",
        "x = np.linspace(0, 10, 101)\n",
        "y = 0.1*np.exp(0.3*x) + 0.1*np.random.random(len(x))"
      ],
      "metadata": {
        "id": "6lJ03juJQ6zY"
      },
      "execution_count": 15,
      "outputs": []
    },
    {
      "cell_type": "code",
      "source": [
        "# Let's have a look of the data\n",
        "plt.figure(figsize = (10,8))\n",
        "plt.plot(x, y, 'b.')\n",
        "plt.xlabel('x')\n",
        "plt.ylabel('y')\n",
        "plt.show()"
      ],
      "metadata": {
        "colab": {
          "base_uri": "https://localhost:8080/",
          "height": 517
        },
        "id": "E6RczoPyQ9Mo",
        "outputId": "7ec87bd2-ad65-4f35-f2d2-a5e59095f69d"
      },
      "execution_count": 16,
      "outputs": [
        {
          "output_type": "display_data",
          "data": {
            "text/plain": [
              "<Figure size 720x576 with 1 Axes>"
            ],
            "image/png": "[encoded data removed]"
          },
          "metadata": {
            "needs_background": "light"
          }
        }
      ]
    },
    {
      "cell_type": "code",
      "source": [
        "#Perform log transformation and then linear regression\n",
        "A = np.vstack([x, np.ones(len(x))]).T\n",
        "beta, log_alpha = np.linalg.lstsq(A, np.log(y), rcond = None)[0]\n",
        "alpha = np.exp(log_alpha)\n",
        "print(f'alpha={alpha}, beta={beta}')"
      ],
      "metadata": {
        "colab": {
          "base_uri": "https://localhost:8080/"
        },
        "id": "Yl4qqO4pQ_Ch",
        "outputId": "1312b278-8282-4de3-9fd0-c57586850fd7"
      },
      "execution_count": 17,
      "outputs": [
        {
          "output_type": "stream",
          "name": "stdout",
          "text": [
            "alpha=0.13100115040899327, beta=0.27169099038595973\n"
          ]
        }
      ]
    },
    {
      "cell_type": "code",
      "source": [
        "# Let's have a look of the data\n",
        "plt.figure(figsize = (10,8))\n",
        "plt.plot(x, y, 'b.')\n",
        "plt.plot(x, alpha*np.exp(beta*x), 'r')\n",
        "plt.xlabel('x')\n",
        "plt.ylabel('y')\n",
        "plt.show()"
      ],
      "metadata": {
        "colab": {
          "base_uri": "https://localhost:8080/",
          "height": 517
        },
        "id": "caWIpUMaRXNc",
        "outputId": "47eef7b2-2575-4d4d-f504-785b5768f590"
      },
      "execution_count": 18,
      "outputs": [
        {
          "output_type": "display_data",
          "data": {
            "text/plain": [
              "<Figure size 720x576 with 1 Axes>"
            ],
            "image/png": "[encoded data removed]"
          },
          "metadata": {
            "needs_background": "light"
          }
        }
      ]
    },
    {
      "cell_type": "markdown",
      "source": [
        "We can also use different python methods to perform polynomial regression. With a given set of data points we can use different order polynomials to fit the data. The coefficients are still estimated by minimized the error of the residuals. "
      ],
      "metadata": {
        "id": "m3OO7IXiRnU9"
      }
    },
    {
      "cell_type": "markdown",
      "source": [
        "Practice: Fit different polynomials onto data"
      ],
      "metadata": {
        "id": "q3ibpbS6SAVh"
      }
    },
    {
      "cell_type": "code",
      "source": [
        "#Set data points\n",
        "x_d = np.array([0, 1, 2, 3, 4, 5, 6, 7, 8])\n",
        "y_d = np.array([0, 0.8, 0.9, 0.1, -0.6, -0.8, -1, -0.9, -0.4])\n",
        "\n",
        "plt.figure(figsize = (12, 8))\n",
        "for i in range(1, 7):\n",
        "    \n",
        "    # get the polynomial coefficients\n",
        "    y_est = np.polyfit(x_d, y_d, i)\n",
        "    plt.subplot(2,3,i)\n",
        "    plt.plot(x_d, y_d, 'o')\n",
        "    # evaluate the values for a polynomial\n",
        "    plt.plot(x_d, np.polyval(y_est, x_d))\n",
        "    plt.title(f'Polynomial order {i}')\n",
        "\n",
        "plt.tight_layout()\n",
        "plt.show()"
      ],
      "metadata": {
        "colab": {
          "base_uri": "https://localhost:8080/",
          "height": 585
        },
        "id": "7NtsiKeCSEjX",
        "outputId": "671f8e02-72b9-4608-ef5e-03fd45b3f9c1"
      },
      "execution_count": 19,
      "outputs": [
        {
          "output_type": "display_data",
          "data": {
            "text/plain": [
              "<Figure size 864x576 with 6 Axes>"
            ],
            "image/png": "[encoded data removed]"
          },
          "metadata": {
            "needs_background": "light"
          }
        }
      ]
    },
    {
      "cell_type": "markdown",
      "source": [
        "The above plots show the different curves using different polynomials. While the higher order polynomials offer more flexibility, but it the order depends on the specificity of the problem. "
      ],
      "metadata": {
        "id": "skPF_JxSSMxK"
      }
    }
  ]
}
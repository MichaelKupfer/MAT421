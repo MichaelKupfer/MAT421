{
  "nbformat": 4,
  "nbformat_minor": 0,
  "metadata": {
    "colab": {
      "provenance": [],
      "authorship_tag": "ABX9TyPifvJ5m3h1zH+TR+3uEo+u",
      "include_colab_link": true
    },
    "kernelspec": {
      "name": "python3",
      "display_name": "Python 3"
    },
    "language_info": {
      "name": "python"
    }
  },
  "cells": [
    {
      "cell_type": "markdown",
      "metadata": {
        "id": "view-in-github",
        "colab_type": "text"
      },
      "source": [
        "<a href=\"https://colab.research.google.com/github/MichaelKupfer/MAT421/blob/main/mat421_hw12.ipynb\" target=\"_parent\"><img src=\"https://colab.research.google.com/assets/colab-badge.svg\" alt=\"Open In Colab\"/></a>"
      ]
    },
    {
      "cell_type": "markdown",
      "source": [
        "Chapter 22(cont.) - Ordinary Differential Equation: Initial Value Problems"
      ],
      "metadata": {
        "id": "BK3vIywHJ6jr"
      }
    },
    {
      "cell_type": "markdown",
      "source": [
        "22.4 Numerical Error and Instability"
      ],
      "metadata": {
        "id": "g9Nn5mVnJ-Xt"
      }
    },
    {
      "cell_type": "markdown",
      "source": [],
      "metadata": {
        "id": "6iALLrlcKDmo"
      }
    },
    {
      "cell_type": "code",
      "execution_count": null,
      "metadata": {
        "id": "mnBRXJFMJxFp"
      },
      "outputs": [],
      "source": []
    }
  ]
}